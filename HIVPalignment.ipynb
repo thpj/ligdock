{
 "metadata": {
  "name": "",
  "signature": "sha256:7801116ef868eb20621caae64f2234f08d8135772f7d1c5b4cfab9c4098dd1c8"
 },
 "nbformat": 3,
 "nbformat_minor": 0,
 "worksheets": [
  {
   "cells": [
    {
     "cell_type": "markdown",
     "metadata": {},
     "source": [
      "Several methods were used for aligning the HIV-Protease homodimer after all-atom molecular dynamic (MD) simulations using the AMBER12 suite of tools. Below, I have listed the reference structure PDB ID used to obtain the MD simulation, and script used in Visual Molecular Dyanmics (VMD), using the RMSD Visualizer Tool and TKConsole to align the simulations."
     ]
    },
    {
     "cell_type": "markdown",
     "metadata": {},
     "source": [
      "Alignments\n",
      "RCSB ID: 1hsg\n",
      "hsg1ww_a.pdb was used as the reference structure\n",
      "First step, align to the frame using the RMSD Visualizer Tool. In this tool, the molecule selected was Top, and encompassed all the frames of the trajectory. Under the Trajectory selection, nothing was selected. The Atom Selection was set to protein. Under the Reference selection, the Molecule ID was select as 'self' and the Window was selected as reference, and the Window was set to one to align using RMSF. After these selections were made, the molecule was aligned by pressing the 'Align' button. A warning is received that you are using RMSF for alignment. Press 'Ok' to proceed with alignment. The result will put all of your frames to the same relative space. However, if the homodimer crossed the the periodic boundary of the box, these will not be aligned. Only frames that did not have the homodimer separated will be completely aligned.\n",
      "\n",
      "After the initial alignment is done using RMSF, we next use the Tk Console to customize the alignment to have all frames aligned with atomic clashes. For hsg1, the following selections and script were used for aligning:"
     ]
    },
    {
     "cell_type": "code",
     "collapsed": false,
     "input": [
      "set ref1 [atomselect 0 \"resid 25 to 99 and not (resid 29 to 84) and not (resid 88 to 89) and not (resid 91 to 99)\"]\n",
      "set ref2 [atomselect 0 \"resid 121 to 198 and not (resid 132 to 173) and not (resid 176 to 181) and not (resid 189 to 198)\"]\n",
      "set sel1 [atomselect 0 \"resid 25 to 99 and not (resid 29 to 84) and not (resid 88 to 89) and not (resid 91 to 99)\"]\n",
      "set sel2 [atomselect 0 \"resid 121 to 198 and not (resid 132 to 173) and not (resid 176 to 181) and not (resid 189 to 198)\"]\n",
      "set sel3 [atomselect 0 \"resid 1 to 99\"]\n",
      "set sel4 [atomselect 0 \"resid 100 to 198\"]\n",
      "set k 0\n",
      "set n [molinfo 0 get numframes]\n",
      "for { set i 1 } { $i < $n } { incr i } {\n",
      "$ref1 frame $k\n",
      "$sel1 frame $i\n",
      "set RMSD1 [measure rmsd $ref1 $sel1]\n",
      "if { $RMSD1 >= 10 } {\n",
      "set M1 [measure fit $sel1 $ref1]\n",
      "$sel3 frame $i\n",
      "$sel3 move $M1\n",
      "}\n",
      "$ref2 frame $k\n",
      "$sel2 frame $i\n",
      "set RMSD2 [measure rmsd $ref2 $sel2]\n",
      "if { $RMSD2 >= 10 } {\n",
      "set M2 [measure fit $sel2 $ref2]\n",
      "$sel4 frame $i\n",
      "$sel4 move $M2\n",
      "}\n",
      "incr k\n",
      "}"
     ],
     "language": "python",
     "metadata": {},
     "outputs": []
    },
    {
     "cell_type": "markdown",
     "metadata": {},
     "source": [
      "The above selection and script was created to avoid atoms clashing into one another based on the beta-factors from the crystallographic information provided from the PDB file from RCSB.org. The selections were made so that the alignment was only carried out on the residues with the least amount of movement. This was necessary for this trajectory, as it was observed that the beta-hairpin flaps of HIV-1 Protease open during this simulation and the flaps switch sides. Therefore, alignment to a single reference structure produced many atomic clashes that would not be occurring. In the above code, we have implemented alignment such that it aligns to the previous frame, which was just aligned. However, we still start at frame 0, such that the alignment is in the same frame of reference."
     ]
    },
    {
     "cell_type": "markdown",
     "metadata": {},
     "source": [
      "RCSB ID: 1d4h\n",
      "The same procedure was followed as for 1hsg for the first step of alignment using RMSF. However, a slight modifiction to the second-step of alignment was needed. The following selections and script were used for aligning 1d4h in VMD TK Console:"
     ]
    },
    {
     "cell_type": "code",
     "collapsed": false,
     "input": [
      "set ref1 [atomselect 0 \"resid 1 to 99\"]\n",
      "set ref2 [atomselect 0 \"resid 100 to 198\"]\n",
      "set sel1 [atomselect 0 \"resid 1 to 99\"]\n",
      "set sel2 [atomselect 0 \"resid 100 to 198\"]\n",
      "set k 0\n",
      "set n [molinfo 0 get numframes]\n",
      "for { set i 1 } { $i < $n } { incr i } {\n",
      "$ref1 frame $k\n",
      "$sel1 frame $i\n",
      "set RMSD1 [measure rmsd $ref1 $sel1]\n",
      "if { $RMSD1 >= 10 } {\n",
      "set M1 [measure fit $sel1 $ref1]\n",
      "$sel1 move $M1\n",
      "}\n",
      "$ref2 frame $k\n",
      "$sel2 frame $i\n",
      "set RMSD2 [measure rmsd $ref2 $sel2]\n",
      "if { $RMSD2 >= 10 } {\n",
      "set M2 [measure fit $sel2 $ref2]\n",
      "$sel2 move $M2\n",
      "}\n",
      "incr k\n",
      "}"
     ],
     "language": "python",
     "metadata": {},
     "outputs": []
    },
    {
     "cell_type": "markdown",
     "metadata": {},
     "source": [
      "The above script allows for alignment similarly to the script used for 1hsg. It was found that this alignment worked best when the observed protein did not deviate much from its intial position/input strucuture. The alignments using this code did not observe either flap opening or switching of the sides of the beta-hairpin flaps. However, when the hsg1 script was used, atomic clashes were produced in all of the simulations. Therefore, this simpler code was implemented to avoid these unfavorable interactions."
     ]
    },
    {
     "cell_type": "markdown",
     "metadata": {},
     "source": [
      "RCSB ID: 1d4i\n",
      "The same procedure was followed as for 1d4h, including the selections and script used in VMD Tk Console."
     ]
    },
    {
     "cell_type": "markdown",
     "metadata": {},
     "source": [
      "RCSB ID: 1g35\n",
      "The same procedure was followed as for 1d4h, including the selctions and script used in VMD TK Console."
     ]
    },
    {
     "cell_type": "markdown",
     "metadata": {},
     "source": [
      "RCSB ID: 1dif\n",
      "The same first-step was followed as in the alignment of 1hsg, which aligned first using the RMSF of the frames under the RMSD Visualizer Tool in VMD. The second-step varied as followd in terms of atom selections and the script used for aligning 1dif:"
     ]
    },
    {
     "cell_type": "code",
     "collapsed": false,
     "input": [
      "set ref1 [atomselect 0 \"resid 25 to 99 and name CA and not (resid 29 to 84) and not (resid 88 to 89) and not (resid 91 to 99)\"]\n",
      "set ref2 [atomselect 0 \"resid 121 to 198 and name CA and not (resid 132 to 173) and not (resid 176 to 181) and not (resid 189 to 198)\"]\n",
      "set sel1 [atomselect 0 \"resid 25 to 99 and name CA and not (resid 29 to 84) and not (resid 88 to 89) and not (resid 91 to 99)\"]\n",
      "set sel2 [atomselect 0 \"resid 121 to 198 and name CA and not (resid 132 to 173) and not (resid 176 to 181) and not (resid 189 to 198)\"]\n",
      "set ref3 [atomselect 0 \"resid 1 to 99 and name CA\"]\n",
      "set ref4 [atomselect 0 \"resid 100 to 198 and name CA\"]\n",
      "set sel3 [atomselect 0 \"resid 1 to 99 and name CA\"]\n",
      "set sel4 [atomselect 0 \"resid 100 to 198 and name CA\"]\n",
      "set sel5 [atomselect 0 \"resid 1 to 99\"]\n",
      "set sel6 [atomselect 0 \"resid 100 to 198\"]\n",
      "set k 0\n",
      "set n [molinfo 0 get numframes]\n",
      "for { set i 1 } { $i < $n } { incr i } {\n",
      "if { $i <= 8000 } {\n",
      "$ref1 frame $k\n",
      "$sel1 frame $i\n",
      "set RMSD1 [measure rmsd $ref1 $sel1]\n",
      "if { $RMSD1 >= 10 } {\n",
      "set M1 [measure fit $sel1 $ref1]\n",
      "$sel5 frame $i\n",
      "$sel5 move $M1\n",
      "}\n",
      "$ref2 frame $k\n",
      "$sel2 frame $i\n",
      "set RMSD2 [measure rmsd $ref2 $sel2]\n",
      "if { $RMSD2 >= 10 } {\n",
      "set M2 [measure fit $sel2 $ref2]\n",
      "$sel6 frame $i\n",
      "$sel6 move $M2\n",
      "}\n",
      "}\n",
      "if { $i > 8000 } {\n",
      "$ref3 frame $k\n",
      "$sel3 frame $i\n",
      "set RMSD3 [measure rmsd $ref3 $sel3]\n",
      "if { $RMSD3 >= 10 } {\n",
      "set M3 [measure fit $sel3 $ref3]\n",
      "$sel5 frame $i\n",
      "$sel5 move $M3\n",
      "}\n",
      "$ref4 frame $k\n",
      "$sel4 frame $i\n",
      "set RMSD4 [measure rmsd $ref4 $sel4]\n",
      "if { $RMSD4 >= 10 } {\n",
      "set M4 [measure fit $sel4 $ref4]\n",
      "$sel6 frame $i\n",
      "$sel6 move $M4\n",
      "}\n",
      "}\n",
      "incr k\n",
      "}"
     ],
     "language": "python",
     "metadata": {},
     "outputs": []
    },
    {
     "cell_type": "markdown",
     "metadata": {},
     "source": [
      "This last script was implemented for 1dif since all previously created scripts failed to align the protein without atomic clashes. In this instance, we have two different alignments happening. The first is very similar to the 1hsg script, with the exception that it is only applied to the alpha carbons this time, and it is only applied to the first 8000 frames. This was because the next part of the script which selects all of the alpha carbons of both chaines would produce atomic clashes in the first 8000 frames, but the first part of the script would produce clashes in the latter part of the trajectory. So the second part of the script selects all the alpha carbons of the of both chains, and proceeds to align the remainder of the trajectory. Also, 1dif, like 1hsg, was observed to have its beta-hairpin flaps open and then switch sides of the protein as well. This may be the source of difficulty when aligning this particular protein."
     ]
    },
    {
     "cell_type": "markdown",
     "metadata": {},
     "source": [
      "Used catdcd from VMD Plugin to stitch together the trajectories. ptraj resulted in corruption of the DCD file such that it could not longer be read by VMD or MDAnalysis."
     ]
    }
   ],
   "metadata": {}
  }
 ]
}